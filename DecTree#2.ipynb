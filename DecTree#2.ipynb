{
 "cells": [
  {
   "cell_type": "code",
   "execution_count": 2,
   "metadata": {},
   "outputs": [
    {
     "data": {
      "text/html": [
       "Finishing last run (ID:y2pscgd7) before initializing another..."
      ],
      "text/plain": [
       "<IPython.core.display.HTML object>"
      ]
     },
     "metadata": {},
     "output_type": "display_data"
    },
    {
     "data": {
      "application/vnd.jupyter.widget-view+json": {
       "model_id": "c877e5c1bae34e74b23e21e622d10f51",
       "version_major": 2,
       "version_minor": 0
      },
      "text/plain": [
       "VBox(children=(Label(value='0.004 MB of 0.004 MB uploaded\\r'), FloatProgress(value=1.0, max=1.0)))"
      ]
     },
     "metadata": {},
     "output_type": "display_data"
    },
    {
     "data": {
      "text/html": [
       " View run <strong style=\"color:#cdcd00\">DecisionTree_Classification</strong> at: <a href='https://wandb.ai/sv267108-universidad-ort-uruguay/OBL-MACHINE-LEARNING-2024/runs/y2pscgd7' target=\"_blank\">https://wandb.ai/sv267108-universidad-ort-uruguay/OBL-MACHINE-LEARNING-2024/runs/y2pscgd7</a><br/> View project at: <a href='https://wandb.ai/sv267108-universidad-ort-uruguay/OBL-MACHINE-LEARNING-2024' target=\"_blank\">https://wandb.ai/sv267108-universidad-ort-uruguay/OBL-MACHINE-LEARNING-2024</a><br/>Synced 4 W&B file(s), 0 media file(s), 3 artifact file(s) and 0 other file(s)"
      ],
      "text/plain": [
       "<IPython.core.display.HTML object>"
      ]
     },
     "metadata": {},
     "output_type": "display_data"
    },
    {
     "data": {
      "text/html": [
       "Find logs at: <code>.\\wandb\\run-20241126_131112-y2pscgd7\\logs</code>"
      ],
      "text/plain": [
       "<IPython.core.display.HTML object>"
      ]
     },
     "metadata": {},
     "output_type": "display_data"
    },
    {
     "data": {
      "text/html": [
       "Successfully finished last run (ID:y2pscgd7). Initializing new run:<br/>"
      ],
      "text/plain": [
       "<IPython.core.display.HTML object>"
      ]
     },
     "metadata": {},
     "output_type": "display_data"
    },
    {
     "data": {
      "text/html": [
       "Tracking run with wandb version 0.18.7"
      ],
      "text/plain": [
       "<IPython.core.display.HTML object>"
      ]
     },
     "metadata": {},
     "output_type": "display_data"
    },
    {
     "data": {
      "text/html": [
       "Run data is saved locally in <code>c:\\Users\\Karina\\OneDrive\\Documents\\GitHub\\OBL-Machine-Learning-2024\\wandb\\run-20241126_134914-vw6xeyt2</code>"
      ],
      "text/plain": [
       "<IPython.core.display.HTML object>"
      ]
     },
     "metadata": {},
     "output_type": "display_data"
    },
    {
     "data": {
      "text/html": [
       "Syncing run <strong><a href='https://wandb.ai/sv267108-universidad-ort-uruguay/OBL-MACHINE-LEARNING-2024/runs/vw6xeyt2' target=\"_blank\">DecisionTree_Classification</a></strong> to <a href='https://wandb.ai/sv267108-universidad-ort-uruguay/OBL-MACHINE-LEARNING-2024' target=\"_blank\">Weights & Biases</a> (<a href='https://wandb.me/developer-guide' target=\"_blank\">docs</a>)<br/>"
      ],
      "text/plain": [
       "<IPython.core.display.HTML object>"
      ]
     },
     "metadata": {},
     "output_type": "display_data"
    },
    {
     "data": {
      "text/html": [
       " View project at <a href='https://wandb.ai/sv267108-universidad-ort-uruguay/OBL-MACHINE-LEARNING-2024' target=\"_blank\">https://wandb.ai/sv267108-universidad-ort-uruguay/OBL-MACHINE-LEARNING-2024</a>"
      ],
      "text/plain": [
       "<IPython.core.display.HTML object>"
      ]
     },
     "metadata": {},
     "output_type": "display_data"
    },
    {
     "data": {
      "text/html": [
       " View run at <a href='https://wandb.ai/sv267108-universidad-ort-uruguay/OBL-MACHINE-LEARNING-2024/runs/vw6xeyt2' target=\"_blank\">https://wandb.ai/sv267108-universidad-ort-uruguay/OBL-MACHINE-LEARNING-2024/runs/vw6xeyt2</a>"
      ],
      "text/plain": [
       "<IPython.core.display.HTML object>"
      ]
     },
     "metadata": {},
     "output_type": "display_data"
    }
   ],
   "source": [
    "# Import necessary libraries\n",
    "import wandb\n",
    "import pandas as pd\n",
    "import numpy as np\n",
    "from sklearn.tree import DecisionTreeClassifier\n",
    "from sklearn.metrics import (\n",
    "    accuracy_score, f1_score, precision_score, recall_score, \n",
    "    mean_squared_error\n",
    ")\n",
    "from sklearn.model_selection import train_test_split, cross_val_score\n",
    "from sklearn.preprocessing import LabelEncoder\n",
    "from sklearn import tree\n",
    "import matplotlib.pyplot as plt\n",
    "\n",
    "df_train = pd.read_csv('./dataset/train.csv')  # Change this to the correct local path\n",
    "df_test = pd.read_csv('./dataset/test.csv')\n",
    "\n",
    "\n",
    "# Initialize Weights & Biases\n",
    "wandb.init(\n",
    "    project=\"OBL-MACHINE-LEARNING-2024\",\n",
    "    name=\"DecisionTree_Classification\"\n",
    ")\n",
    "\n",
    "# Data Cleaning Function\n",
    "def clean_data(df):\n",
    "    df['Year'] = df['Year'].fillna(df['Year'].median())  # Fill 'Year' with median\n",
    "    df['Publisher'] = df['Publisher'].fillna('Unknown')  # Fill 'Publisher' with 'Unknown'\n",
    "    if 'Summary' in df.columns:\n",
    "        df = df.drop(columns=['Summary'])  # Drop 'Summary' if it exists\n",
    "    return df\n",
    "\n",
    "# Data Preprocessing Function\n",
    "def preprocess_data(df, is_train=True):\n",
    "    df = clean_data(df)\n",
    "    \n",
    "    # Convert columns with 'K' to numeric\n",
    "    def convert_to_numeric(value):\n",
    "        value_str = str(value)\n",
    "        if 'K' in value_str:\n",
    "            return int(float(value_str.replace('K', '')) * 1000)\n",
    "        return int(float(value_str))\n",
    "    \n",
    "    columns_to_convert = [\n",
    "        'Europe', 'Japan', 'Rest of World', 'North America', \n",
    "        'Global', 'Number of Reviews', 'Wishlist'\n",
    "    ]\n",
    "    for col in columns_to_convert:\n",
    "        if col in df.columns:\n",
    "            df[col] = df[col].apply(convert_to_numeric)\n",
    "    \n",
    "    # Label Encoding for categorical columns\n",
    "    label_encoder = LabelEncoder()\n",
    "    categorical_columns = ['Game Title', 'Publisher', 'Platform', 'Genre']\n",
    "    for col in categorical_columns:\n",
    "        if col in df.columns:\n",
    "            df[col] = label_encoder.fit_transform(df[col])\n",
    "    \n",
    "    # Split features and target for training\n",
    "    if is_train:\n",
    "        X = df.drop(columns=['id', 'Rating'], errors='ignore')\n",
    "        y = df['Rating'] if 'Rating' in df.columns else None\n",
    "        return X, y\n",
    "    else:\n",
    "        return df.drop(columns=['id', 'Rating'], errors='ignore')\n",
    "\n",
    "# Find the Best Tree Depth\n",
    "def find_best_depth(X, y, max_depth=20, cv=5, random_state=42):\n",
    "    depth_range = range(1, max_depth + 1)\n",
    "    mean_scores = []\n",
    "    \n",
    "    for depth in depth_range:\n",
    "        model = DecisionTreeClassifier(max_depth=depth, random_state=random_state)\n",
    "        scores = cross_val_score(model, X, y, cv=cv, scoring='accuracy')\n",
    "        mean_scores.append(np.mean(scores))\n",
    "    \n",
    "    best_depth = depth_range[np.argmax(mean_scores)]\n",
    "    best_score = max(mean_scores)\n",
    "    print(f\"Best Depth: {best_depth}, Best Accuracy: {best_score:.4f}\")\n",
    "    \n",
    "    wandb.log({\"best_depth\": best_depth, \"best_cv_accuracy\": best_score})\n",
    "    return best_depth, best_score\n",
    "\n",
    "# Train and Evaluate Model\n",
    "def train_and_evaluate_model(X, y, best_depth, test_size=0.33, random_state=42):\n",
    "    X_train, X_test, y_train, y_test = train_test_split(X, y, test_size=test_size, random_state=random_state)\n",
    "    \n",
    "    model = DecisionTreeClassifier(max_depth=best_depth, random_state=random_state)\n",
    "    model.fit(X_train, y_train)\n",
    "    y_pred = model.predict(X_test)\n",
    "    \n",
    "    # Metrics\n",
    "    accuracy = accuracy_score(y_test, y_pred)\n",
    "    f1 = f1_score(y_test, y_pred, average='weighted')\n",
    "    precision = precision_score(y_test, y_pred, average='weighted')\n",
    "    recall = recall_score(y_test, y_pred, average='weighted')\n",
    "    \n",
    "    print(f\"Metrics:\\n  Accuracy: {accuracy:.4f}\\n  F1 Score: {f1:.4f}\\n\"\n",
    "          f\"  Precision: {precision:.4f}\\n  Recall: {recall:.4f}\")\n",
    "    \n",
    "    # Log metrics to wandb\n",
    "    wandb.log({\n",
    "        \"accuracy\": accuracy,\n",
    "        \"f1\": f1,\n",
    "        \"precision\": precision,\n",
    "        \"recall\": recall\n",
    "    })\n",
    "    \n",
    "    # Plot Decision Tree\n",
    "    plt.figure(figsize=(15, 10))\n",
    "    tree.plot_tree(model, filled=True, feature_names=X.columns, class_names=True, fontsize=10)\n",
    "    plt.title(f\"Decision Tree (Depth = {best_depth})\")\n",
    "    plt.show()\n",
    "    \n",
    "    return model\n",
    "\n",
    "# Workflow Function\n",
    "def run_workflow(df_train, df_test):\n",
    "    # Preprocess data\n",
    "    X_train, y_train = preprocess_data(df_train, is_train=True)\n",
    "    X_test = preprocess_data(df_test, is_train=False)\n",
    "    \n",
    "    # Find best depth\n",
    "    best_depth, _ = find_best_depth(X_train, y_train)\n",
    "    \n",
    "    # Train and evaluate model\n",
    "    best_model = train_and_evaluate_model(X_train, y_train, best_depth)\n",
    "    \n",
    "    # Predict on test data\n",
    "    predictions = best_model.predict(X_test)\n",
    "    \n",
    "    # Create submission\n",
    "    submission = pd.DataFrame({\n",
    "        'id': df_test['id'],\n",
    "        'Prediction': predictions\n",
    "    })\n",
    "    submission.to_csv('submission_with_metrics.csv', index=False)\n",
    "    print(\"Submission saved to 'submission_with_metrics.csv'.\")\n",
    "    \n",
    "    return best_model\n",
    "\n",
    "# Load Data (Assumes df_train and df_test are pre-loaded as DataFrames)\n",
    "# df_train = pd.read_csv('train.csv')\n",
    "# df_test = pd.read_csv('test.csv')\n",
    "\n",
    "# Run Workflow\n",
    "# model = run_workflow(df_train, df_test)\n"
   ]
  }
 ],
 "metadata": {
  "kernelspec": {
   "display_name": "Python 3",
   "language": "python",
   "name": "python3"
  },
  "language_info": {
   "codemirror_mode": {
    "name": "ipython",
    "version": 3
   },
   "file_extension": ".py",
   "mimetype": "text/x-python",
   "name": "python",
   "nbconvert_exporter": "python",
   "pygments_lexer": "ipython3",
   "version": "3.11.9"
  }
 },
 "nbformat": 4,
 "nbformat_minor": 2
}
