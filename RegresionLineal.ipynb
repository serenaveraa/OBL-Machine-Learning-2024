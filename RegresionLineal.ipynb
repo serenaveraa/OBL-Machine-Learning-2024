{
 "cells": [
  {
   "cell_type": "markdown",
   "metadata": {},
   "source": [
    "# Regresion Lineal"
   ]
  },
  {
   "cell_type": "code",
   "execution_count": 80,
   "metadata": {},
   "outputs": [],
   "source": [
    "# Cargar y explorar los datos:\n",
    "import pandas as pd\n",
    "import numpy as np\n",
    "import matplotlib.pyplot as plt\n",
    "from sklearn.model_selection import train_test_split, cross_val_score\n",
    "\n",
    "# If necessary, install required packages (use pip in the terminal)\n",
    "# pip install matplotlib scikit-learn pandas\n",
    "# pip install pandas-profiling\n",
    "\n",
    "# 2. Cargar el dataset\n",
    "df_train = pd.read_csv('./dataset/train.csv')  # Change this to the correct local path\n",
    "df_test = pd.read_csv('./dataset/test.csv')\n"
   ]
  },
  {
   "cell_type": "markdown",
   "metadata": {},
   "source": [
    "## Rellenar valores faltantes:"
   ]
  },
  {
   "cell_type": "code",
   "execution_count": 81,
   "metadata": {},
   "outputs": [],
   "source": [
    "# Rellenar valores faltantes\n",
    "def clean_data(df):\n",
    "    # Fill missing 'Year' values with the median of the column\n",
    "    df['Year'] = df['Year'].fillna(df['Year'].median())\n",
    "    \n",
    "    # Fill missing 'Publisher' values with 'Unknown'\n",
    "    df['Publisher'] = df['Publisher'].fillna('Unknown')\n",
    "    \n",
    "    # Drop the 'Summary' column if it exists\n",
    "    if 'Summary' in df.columns:\n",
    "        df = df.drop(columns=['Summary'])\n",
    "    \n",
    "    # Check and return remaining missing values\n",
    "    missing_values = df.isnull().sum()\n",
    "    \n",
    "    # Print missing values\n",
    "    print(\"Missing values after cleaning:\")\n",
    "    print(missing_values)\n",
    "\n",
    "    return df"
   ]
  },
  {
   "cell_type": "markdown",
   "metadata": {},
   "source": [
    "# Preprocesamiento de Datos"
   ]
  },
  {
   "cell_type": "code",
   "execution_count": 82,
   "metadata": {},
   "outputs": [],
   "source": [
    "import pandas as pd\n",
    "from sklearn.preprocessing import LabelEncoder\n",
    "\n",
    "def preprocess_data(df, is_train=True):    \n",
    "    # Helper function to convert string with 'K' to numeric\n",
    "    df= clean_data(df)\n",
    "    def convert_to_numeric(value):\n",
    "        value_str = str(value)\n",
    "        if 'K' in value_str:\n",
    "            return int(float(value_str.replace('K', '')) * 1000)\n",
    "        else:\n",
    "            return int(float(value_str))\n",
    "    \n",
    "    # Apply conversion to numeric columns\n",
    "    columns_to_convert = [\n",
    "        'Europe', 'Japan', 'Rest of World', 'North America', \n",
    "        'Global', 'Number of Reviews', 'Wishlist'\n",
    "    ]\n",
    "    for column in columns_to_convert:\n",
    "        if column in df.columns:\n",
    "            df[column] = df[column].apply(convert_to_numeric)\n",
    "    \n",
    "    # Label encoding for specified categorical columns\n",
    "    label_encoder = LabelEncoder()\n",
    "    categorical_columns = ['Game Title', 'Publisher', 'Platform', 'Genre']\n",
    "    df['Publisher'] = label_encoder.fit_transform(df['Publisher'])\n",
    "    df['Platform'] = label_encoder.fit_transform(df['Platform'])\n",
    "    df['Genre'] = label_encoder.fit_transform(df['Genre'])\n",
    "    df['Game Title'] = label_encoder.fit_transform(df['Game Title'])\n",
    "    \n",
    "\n",
    "        # Return the entire DataFrame for test data\n",
    "    print(df.head())\n",
    "    return df"
   ]
  },
  {
   "cell_type": "markdown",
   "metadata": {},
   "source": [
    "# Particionar los datos"
   ]
  },
  {
   "cell_type": "code",
   "execution_count": 83,
   "metadata": {},
   "outputs": [],
   "source": [
    "from sklearn.model_selection import train_test_split\n",
    "\n",
    "def split_data(df):\n",
    "    df = preprocess_data(df)\n",
    "    random_state = 117\n",
    "\n",
    "    X, y = df.loc[:, df.columns != 'Rating'], df[\"Rating\"]\n",
    "    X_train, X_test, y_train, y_test = train_test_split(\n",
    "        X,\n",
    "        y,\n",
    "        test_size=(1.0/3),\n",
    "        random_state=random_state)\n",
    "    return X, y"
   ]
  },
  {
   "cell_type": "markdown",
   "metadata": {},
   "source": [
    "# Entrenar"
   ]
  },
  {
   "cell_type": "code",
   "execution_count": 84,
   "metadata": {},
   "outputs": [],
   "source": [
    "\n",
    "# Implemente un arbol de regresion y entrenelo\n",
    "from sklearn.tree import DecisionTreeRegressor\n",
    "\n",
    "def train(X_train, X_test, y_train, y_test):\n",
    "# Crear el árbol de decisión para regresión\n",
    "    arbol = DecisionTreeRegressor(random_state=random_state)\n",
    "\n",
    "    # Entrenar el modelo con los datos de entrenamiento\n",
    "    arbol.fit(X_train, y_train)\n",
    "\n",
    "    # Predecir sobre los datos de prueba\n",
    "    y_pred = arbol.predict(X_test)\n",
    "\n",
    "    # Evaluar el modelo (opcional: aquí puedes calcular el R^2 o el error medio cuadrático)\n",
    "    from sklearn.metrics import mean_squared_error, r2_score\n",
    "\n",
    "    mse = mean_squared_error(y_test, y_pred)\n",
    "    r2 = r2_score(y_test, y_pred)\n",
    "\n",
    "    print(f\"Error cuadrático medio: {mse}\")\n",
    "    print(f\"R^2: {r2}\")\n",
    "    return y_pred\n",
    "\n"
   ]
  },
  {
   "cell_type": "markdown",
   "metadata": {},
   "source": [
    "# Evaluacion"
   ]
  },
  {
   "cell_type": "code",
   "execution_count": 85,
   "metadata": {},
   "outputs": [],
   "source": [
    "from sklearn.metrics import mean_absolute_error, mean_squared_error\n",
    "\n",
    "def eval(X_train, X_test, y_train, y_test):\n",
    "# Hacer predicciones sobre los datos de prueba\n",
    "    y_pred = arbol.predict(X_test)\n",
    "\n",
    "    # Calcular el Error Absoluto Medio (MAE)\n",
    "    mae = mean_absolute_error(y_test, y_pred)\n",
    "\n",
    "    # Calcular el Error Cuadrático Medio (MSE)\n",
    "    mse = mean_squared_error(y_test, y_pred)\n",
    "\n",
    "    # Calcular la Raíz del Error Cuadrático Medio (RMSE)\n",
    "    rmse = mean_squared_error(y_test, y_pred, squared=False)\n",
    "\n",
    "    # Imprimir las métricas\n",
    "    print(f\"Error Absoluto Medio (MAE): {mae}\")\n",
    "    print(f\"Error Cuadrático Medio (MSE): {mse}\")\n",
    "    print(f\"Raíz del Error Cuadrático Medio (RMSE): {rmse}\")"
   ]
  },
  {
   "cell_type": "markdown",
   "metadata": {},
   "source": [
    "# K-Fold Cross Validation"
   ]
  },
  {
   "cell_type": "code",
   "execution_count": 86,
   "metadata": {},
   "outputs": [],
   "source": [
    "# Elija un sesgo inductivo y realice la tecnica de model selection Cross validation\n",
    "from sklearn.model_selection import cross_val_score\n",
    "from sklearn.tree import DecisionTreeRegressor\n",
    "\n",
    "def kfold(X, y):\n",
    "# Definir el modelo\n",
    "    arbol = DecisionTreeRegressor(random_state=random_state)\n",
    "\n",
    "    # Definir el número de folds para la validación cruzada\n",
    "    folds = 5  # Puedes ajustar este valor según el tamaño del conjunto de datos\n",
    "\n",
    "    # Realizar la validación cruzada con la métrica de 'neg_mean_squared_error'\n",
    "    scores = cross_val_score(arbol, X, y, cv=folds, scoring='neg_mean_squared_error')\n",
    "\n",
    "    # Convertir los scores a valores positivos y calcular la media y desviación estándar\n",
    "    mse_scores = -scores  # Invertir los signos ya que es neg_mean_squared_error\n",
    "    mean_mse = mse_scores.mean()\n",
    "    std_mse = mse_scores.std()\n",
    "\n",
    "    print(f\"Mean MSE: {mean_mse}\")\n",
    "    print(f\"Standard Deviation of MSE: {std_mse}\")\n",
    "    return mean_mse, std_mse"
   ]
  },
  {
   "cell_type": "markdown",
   "metadata": {},
   "source": [
    "# Creo el árbol de decisión para regresión"
   ]
  },
  {
   "cell_type": "code",
   "execution_count": 87,
   "metadata": {},
   "outputs": [],
   "source": [
    "from sklearn.model_selection import cross_val_score\n",
    "from sklearn.tree import DecisionTreeRegressor\n",
    "import numpy as np\n",
    "\n",
    "# Definir un rango de hiperparámetros a probar (ejemplo de sesgos inductivos)\n",
    "def DecTrees(X,y):\n",
    "    max_depths = [3, 5,6,7,8,9, 10,11,12,13,14]  # Profundidades del árbol\n",
    "    min_samples_leaf = [1, 5, 10]  # Mínimo número de muestras por hoja\n",
    "\n",
    "    best_score = float('inf')\n",
    "    best_params = {}\n",
    "\n",
    "    # Realizar validación cruzada para cada combinación de hiperparámetros\n",
    "    for max_depth in max_depths:\n",
    "        for min_leaf in min_samples_leaf:\n",
    "            # Crear el modelo con los hiperparámetros actuales\n",
    "            arbol = DecisionTreeRegressor(max_depth=max_depth, min_samples_leaf=min_leaf, random_state=random_state)\n",
    "\n",
    "            # Realizar validación cruzada\n",
    "            scores = cross_val_score(arbol, X, y, cv=5, scoring='neg_mean_squared_error')\n",
    "            mean_mse = -scores.mean()  # Convertir a MSE positivo\n",
    "\n",
    "            # Imprimir los resultados\n",
    "            print(f\"Max depth: {max_depth}, Min samples leaf: {min_leaf}, Mean MSE: {mean_mse:.4f}\")\n",
    "\n",
    "            # Guardar el mejor modelo\n",
    "            if mean_mse < best_score:\n",
    "                best_score = mean_mse\n",
    "                best_params = {'max_depth': max_depth, 'min_samples_leaf': min_leaf}\n",
    "\n",
    "    # Mostrar los mejores hiperparámetros\n",
    "    print(f\"Mejores hiperparámetros: {best_params}, con un MSE promedio de {best_score:.4f}\")\n",
    "    return best_params, best_score\n"
   ]
  },
  {
   "cell_type": "markdown",
   "metadata": {},
   "source": [
    "# Do & Evaluate best tree"
   ]
  },
  {
   "cell_type": "code",
   "execution_count": 88,
   "metadata": {},
   "outputs": [],
   "source": [
    "def train_and_evaluate_decision_tree(X, Y, best_depth, test_size=0.33, random_state=42):\n",
    "    X_train, X_test, Y_train, Y_test = train_test_split(X, Y, test_size=test_size, random_state=random_state)\n",
    "    model = DecisionTreeRegressor(max_depth=best_depth, criterion='squared_error', random_state=random_state)\n",
    "    model.fit(X_train, Y_train)\n",
    "    Y_pred = model.predict(X_test)\n",
    "    \n",
    "    # Plot the decision tree\n",
    "    plt.figure(figsize=(15, 10))\n",
    "    tree.plot_tree(model, filled=True, feature_names=X.columns, fontsize=10)\n",
    "    plt.show()\n",
    "    \n",
    "    return model, mse"
   ]
  },
  {
   "cell_type": "markdown",
   "metadata": {},
   "source": [
    "# Call Functions to make best model"
   ]
  },
  {
   "cell_type": "code",
   "execution_count": 93,
   "metadata": {},
   "outputs": [],
   "source": [
    "def run_model_on_test(best_model, df_test):\n",
    "    # Asegurarse de que los datos de prueba están preprocesados de la misma forma\n",
    "    X_test = preprocess_data(df_test)\n",
    "    \n",
    "    # Realizar predicciones con el modelo entrenado\n",
    "    predictions = best_model.predict(X_test)\n",
    "    \n",
    "    return predictions"
   ]
  },
  {
   "cell_type": "markdown",
   "metadata": {},
   "source": [
    "# Ejecuto el modelo"
   ]
  },
  {
   "cell_type": "code",
   "execution_count": null,
   "metadata": {},
   "outputs": [],
   "source": [
    "df_train= preprocess_data(df_train)\n",
    "X, y = split_data(df_train)\n",
    "best_params, best_score = DecTrees(X, y)\n",
    "model = DecisionTreeRegressor(max_depth=best_params['max_depth'], min_samples_leaf=best_params['min_samples_leaf'], random_state=random_state)\n",
    "model.fit(X, y)\n",
    "df_results = run_model_on_test(model, df_test)\n",
    "\n",
    "submission = pd.DataFrame({\n",
    "    'id': df_test['id'],  # Usar df_test para obtener los identificadores\n",
    "    'Prediction': df_results\n",
    "})\n",
    "\n",
    "# Guardar el DataFrame como un archivo CSV\n",
    "submission.to_csv('RegResults.csv', index=False)\n"
   ]
  }
 ],
 "metadata": {
  "kernelspec": {
   "display_name": "Python 3",
   "language": "python",
   "name": "python3"
  },
  "language_info": {
   "codemirror_mode": {
    "name": "ipython",
    "version": 3
   },
   "file_extension": ".py",
   "mimetype": "text/x-python",
   "name": "python",
   "nbconvert_exporter": "python",
   "pygments_lexer": "ipython3",
   "version": "3.11.9"
  }
 },
 "nbformat": 4,
 "nbformat_minor": 2
}
