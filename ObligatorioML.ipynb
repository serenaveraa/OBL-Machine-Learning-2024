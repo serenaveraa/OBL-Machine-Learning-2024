{
 "cells": [
  {
   "cell_type": "markdown",
   "metadata": {
    "id": "qS78xdfwTdMl"
   },
   "source": [
    "# Cargar y explorar los datos:"
   ]
  },
  {
   "cell_type": "code",
   "execution_count": null,
   "metadata": {
    "colab": {
     "base_uri": "https://localhost:8080/"
    },
    "collapsed": true,
    "id": "roBADtGxj4Qk",
    "outputId": "74d8007e-842a-4792-e19c-e28806b4f527"
   },
   "outputs": [],
   "source": [
    "import pandas as pd\n",
    "import numpy as np\n",
    "import matplotlib.pyplot as plt\n",
    "from sklearn.model_selection import train_test_split, cross_val_score\n",
    "\n",
    "# If necessary, install required packages (use pip in the terminal)\n",
    "# pip install matplotlib scikit-learn pandas\n",
    "# pip install pandas-profiling\n",
    "\n",
    "# 2. Cargar el dataset\n",
    "df_train = pd.read_csv('./dataset/train.csv')  # Change this to the correct local path\n",
    "df_test = pd.read_csv('./dataset/test.csv')\n"
   ]
  },
  {
   "cell_type": "code",
   "execution_count": null,
   "metadata": {
    "colab": {
     "base_uri": "https://localhost:8080/",
     "height": 920
    },
    "collapsed": true,
    "id": "opjak8-1tTvR",
    "outputId": "ad330336-4337-43ea-8f33-0cc457cdfae9"
   },
   "outputs": [],
   "source": [
    "# Resumen de la información del dataframe\n",
    "df_train.info()\n",
    "df_train.head()"
   ]
  },
  {
   "cell_type": "code",
   "execution_count": null,
   "metadata": {
    "colab": {
     "base_uri": "https://localhost:8080/"
    },
    "collapsed": true,
    "id": "jIv0ENS7tv0g",
    "outputId": "4002009d-c2db-4919-966c-c5c30df58e1a"
   },
   "outputs": [],
   "source": [
    "missing_values = df_train.isnull().sum()\n",
    "print(missing_values)\n"
   ]
  },
  {
   "cell_type": "markdown",
   "metadata": {
    "id": "rzf3IFM8T6xk"
   },
   "source": [
    "# Rellenar valores faltantes:\n",
    "En Publisher, rellenamos con una categoría como \"Unknown\" si no es crucial.\n",
    "Para Summary, la eliminamos ya que no es relevante para la clasificación o utilizar técnicas de procesamiento de texto si planeas incluirla."
   ]
  },
  {
   "cell_type": "code",
   "execution_count": null,
   "metadata": {
    "colab": {
     "base_uri": "https://localhost:8080/"
    },
    "collapsed": true,
    "id": "ppNwVeKLUGT-",
    "outputId": "85680cca-0431-4828-e809-0b689fa50e04"
   },
   "outputs": [],
   "source": [
    "# Rellenar valores faltantes\n",
    "def clean_data(df):\n",
    "    # Fill missing 'Year' values with the median of the column\n",
    "    df['Year'] = df['Year'].fillna(df['Year'].median())\n",
    "    \n",
    "    # Fill missing 'Publisher' values with 'Unknown'\n",
    "    df['Publisher'] = df['Publisher'].fillna('Unknown')\n",
    "    \n",
    "    # Drop the 'Summary' column if it exists\n",
    "    if 'Summary' in df.columns:\n",
    "        df = df.drop(columns=['Summary'])\n",
    "    \n",
    "    # Check and return remaining missing values\n",
    "    missing_values = df.isnull().sum()\n",
    "    \n",
    "    # Print missing values\n",
    "    print(\"Missing values after cleaning:\")\n",
    "    print(missing_values)\n",
    "\n",
    "\n",
    "\n",
    "    \n",
    "    return df\n"
   ]
  },
  {
   "cell_type": "markdown",
   "metadata": {
    "id": "ne8d-BkaV9Ux"
   },
   "source": [
    "# Convertir variables categóricas:"
   ]
  },
  {
   "cell_type": "code",
   "execution_count": null,
   "metadata": {
    "colab": {
     "base_uri": "https://localhost:8080/"
    },
    "id": "HwWlyi4HdQT1",
    "outputId": "20e3d15c-8b12-49a8-ce7b-30750a2de84c"
   },
   "outputs": [],
   "source": [
    "import pandas as pd\n",
    "from sklearn.preprocessing import LabelEncoder\n",
    "\n",
    "def preprocess_data(df, is_train=True):    \n",
    "    # Limpiar los datos\n",
    "    df = clean_data(df)\n",
    "    \n",
    "    # Función auxiliar para convertir cadenas con 'K' a valores numéricos\n",
    "    def convert_to_numeric(value):\n",
    "        value_str = str(value)\n",
    "        if 'K' in value_str:\n",
    "            return int(float(value_str.replace('K', '')) * 1000)\n",
    "        else:\n",
    "            return int(float(value_str))\n",
    "    \n",
    "    # Aplicar la conversión a columnas numéricas\n",
    "    columns_to_convert = [\n",
    "        'Europe', 'Japan', 'Rest of World', 'North America', \n",
    "        'Global', 'Number of Reviews', 'Wishlist'\n",
    "    ]\n",
    "    for column in columns_to_convert:\n",
    "        if column in df.columns:\n",
    "            df[column] = df[column].apply(convert_to_numeric)\n",
    "    \n",
    "    # Codificación de variables categóricas\n",
    "    label_encoder = LabelEncoder()\n",
    "    categorical_columns = ['Game Title', 'Publisher', 'Platform', 'Genre']\n",
    "    for column in categorical_columns:\n",
    "        if column in df.columns:\n",
    "            df[column] = label_encoder.fit_transform(df[column])\n",
    "    \n",
    "    # Separar características y objetivo en el conjunto de entrenamiento\n",
    "    if is_train:\n",
    "        # Si es el conjunto de entrenamiento, devolver características y objetivo\n",
    "        X = df.drop(columns=['id', 'Rating'], errors='ignore')\n",
    "        y = df['Rating'] if 'Rating' in df.columns else None\n",
    "        return X, y\n",
    "    else:\n",
    "        # Si es el conjunto de prueba, eliminar 'id' y 'Rating' y devolver solo características\n",
    "        X = df.drop(columns=['id', 'Rating'], errors='ignore')\n",
    "        return X\n",
    "\n",
    "# Ejemplo de uso:\n",
    "# X_train, y_train = preprocess_data(df_train, is_train=True)\n",
    "# X_test = preprocess_data(df_test, is_train=False)\n"
   ]
  },
  {
   "cell_type": "markdown",
   "metadata": {
    "id": "rMsnUfbndir_"
   },
   "source": [
    "# Separar características y objetivo"
   ]
  },
  {
   "cell_type": "code",
   "execution_count": null,
   "metadata": {
    "colab": {
     "base_uri": "https://localhost:8080/"
    },
    "id": "9s7SqSEQdn-n",
    "outputId": "baa7a064-254e-47ef-906b-93c863774275"
   },
   "outputs": [],
   "source": [
    "from sklearn.model_selection import train_test_split, cross_val_score\n",
    "from sklearn.tree import DecisionTreeRegressor\n",
    "import numpy as np\n",
    "\n",
    "def find_best_depth(X, Y, test_size=0.33, max_depth=20, cv=5, random_state=42):\n",
    "    \"\"\"\n",
    "    Finds the best max_depth for a DecisionTreeRegressor using cross-validation.\n",
    "    \n",
    "    Parameters:\n",
    "    - X (pd.DataFrame): Features.\n",
    "    - Y (pd.Series): Target variable.\n",
    "    - test_size (float): Proportion of data to use as the test set.\n",
    "    - max_depth (int): Maximum depth to evaluate.\n",
    "    - cv (int): Number of cross-validation folds.\n",
    "    - random_state (int): Random seed for reproducibility.\n",
    "    \n",
    "    Returns:\n",
    "    - best_depth (int): The depth that gives the lowest average MSE.\n",
    "    - best_score (float): The corresponding mean squared error for the best depth.\n",
    "    \"\"\"\n",
    "    \n",
    "    # Split data into training and testing sets\n",
    "    \n",
    "    X_train, X_test, Y_train, Y_test = train_test_split(X, Y, test_size=test_size, random_state=random_state)\n",
    "    \n",
    "    # Define range of depths to evaluate\n",
    "    depth_range = range(1, max_depth + 1)\n",
    "    mean_scores = []\n",
    "    \n",
    "    # Perform cross-validation for each depth\n",
    "    for depth in depth_range:\n",
    "        model = DecisionTreeRegressor(max_depth=depth, criterion='squared_error', random_state=random_state)\n",
    "        scores = cross_val_score(model, X_train, Y_train, cv=cv, scoring='neg_mean_squared_error')\n",
    "        mean_scores.append(np.mean(np.abs(scores)))  # Store the mean absolute error\n",
    "    \n",
    "    # Determine the best depth based on mean score\n",
    "    best_depth = depth_range[np.argmin(mean_scores)]\n",
    "    best_score = min(mean_scores)\n",
    "    \n",
    "    print(f\"Best depth: {best_depth}\")\n",
    "    print(f\"Average Mean Squared Error with cross-validation: {best_score:.4f}\")\n",
    "    \n",
    "    return best_depth, best_score\n",
    "\n",
    "# Example usage:\n",
    "# best_depth, best_score = find_best_depth(X, Y)\n",
    "\n",
    "\n",
    "\n"
   ]
  },
  {
   "cell_type": "markdown",
   "metadata": {
    "id": "6GD7PT4cYtAg"
   },
   "source": [
    "# Hacer arbol y evaluarlo:"
   ]
  },
  {
   "cell_type": "code",
   "execution_count": null,
   "metadata": {
    "colab": {
     "base_uri": "https://localhost:8080/",
     "height": 721
    },
    "collapsed": true,
    "id": "nMdNV58VQWwt",
    "outputId": "cb3eee20-a069-48a8-c877-e9f4e5072c71"
   },
   "outputs": [],
   "source": [
    "from sklearn.tree import DecisionTreeRegressor\n",
    "from sklearn.metrics import mean_squared_error\n",
    "import matplotlib.pyplot as plt\n",
    "from sklearn import tree\n",
    "from sklearn.model_selection import train_test_split\n",
    "\n",
    "\n",
    "def train_and_evaluate_decision_tree(X, Y, best_depth, test_size=0.33, random_state=42):\n",
    "    X_train, X_test, Y_train, Y_test = train_test_split(X, Y, test_size=test_size, random_state=random_state)\n",
    "    model = DecisionTreeRegressor(max_depth=best_depth, criterion='squared_error', random_state=random_state)\n",
    "    model.fit(X_train, Y_train)\n",
    "    Y_pred = model.predict(X_test)\n",
    "    mse = mean_squared_error(Y_test, Y_pred)\n",
    "    print(f\"Mean Squared Error (MSE) on test set: {mse:.4f}\")\n",
    "    \n",
    "    # Plot the decision tree\n",
    "    plt.figure(figsize=(15, 10))\n",
    "    tree.plot_tree(model, filled=True, feature_names=X.columns, fontsize=10)\n",
    "    plt.title(f\"Decision Tree (Depth = {best_depth})\")\n",
    "    plt.show()\n",
    "    \n",
    "    return model, mse\n",
    "\n",
    "\n"
   ]
  },
  {
   "cell_type": "markdown",
   "metadata": {},
   "source": [
    "\n",
    "Correr todas las funciones"
   ]
  },
  {
   "cell_type": "code",
   "execution_count": null,
   "metadata": {},
   "outputs": [],
   "source": [
    "def run_decision_tree_workflow(df_train, df_test):\n",
    "    # Preprocesar datos\n",
    "    X_train, Y_train = preprocess_data(df_train, is_train=True)\n",
    "    X_test = preprocess_data(df_test, is_train=False)\n",
    "    \n",
    "    # Encontrar la mejor profundidad del árbol\n",
    "    best_depth, best_score = find_best_depth(X_train, Y_train)\n",
    "    \n",
    "    # Entrenar y evaluar el modelo con la mejor profundidad\n",
    "    best_model, mse = train_and_evaluate_decision_tree(X_train, Y_train, best_depth)\n",
    "    \n",
    "    # Retornar los resultados\n",
    "    return {\n",
    "        \"best_depth\": best_depth,\n",
    "        \"best_score\": best_score,\n",
    "        \"model\": best_model,\n",
    "        \"mse\": mse\n",
    "    }"
   ]
  },
  {
   "cell_type": "markdown",
   "metadata": {},
   "source": [
    "Evaluar test"
   ]
  },
  {
   "cell_type": "code",
   "execution_count": null,
   "metadata": {},
   "outputs": [],
   "source": [
    "def run_model_on_test(best_model, df_test):\n",
    "    # Asegurarse de que los datos de prueba están preprocesados de la misma forma\n",
    "    X_test = preprocess_data(df_test, is_train=False)\n",
    "    \n",
    "    # Realizar predicciones con el modelo entrenado\n",
    "    predictions = best_model.predict(X_test)\n",
    "    \n",
    "    return predictions\n",
    "\n",
    "workflow_results = run_decision_tree_workflow(df_train, df_test)\n",
    "best_model = workflow_results[\"model\"]  # Extrae el modelo desde los resultados de workflow\n",
    "df_results = run_model_on_test(best_model, df_test)\n",
    "\n",
    "submission = pd.DataFrame({\n",
    "    'id': df_test['id'],  # Usar df_test para obtener los identificadores\n",
    "    'Prediction': df_results\n",
    "})\n",
    "\n",
    "# Guardar el DataFrame como un archivo CSV\n",
    "submission.to_csv('submission#2.csv', index=False)"
   ]
  },
  {
   "cell_type": "code",
   "execution_count": null,
   "metadata": {
    "id": "TzfARi68v9c8"
   },
   "outputs": [],
   "source": [
    "# Crear un DataFrame para las predicciones\n",
    "\n",
    "#evaluar nuestro modelo con test\n"
   ]
  },
  {
   "cell_type": "code",
   "execution_count": null,
   "metadata": {
    "id": "PTT8i9DnyyY0"
   },
   "outputs": [],
   "source": [
    "from joblib import dump, load\n",
    "dump(best_model, 'tree.joblib')\n"
   ]
  },
  {
   "cell_type": "markdown",
   "metadata": {},
   "source": [
    "Importamos librerias"
   ]
  },
  {
   "cell_type": "code",
   "execution_count": null,
   "metadata": {},
   "outputs": [],
   "source": [
    "from joblib import dump, load\n",
    "dump(best_model, 'tree.joblib')\n",
    "\n",
    "#model.load('tree.joblib')\n",
    "#model.predict(X_test)\n",
    " #  Guardar el modelo en un archivo"
   ]
  }
 ],
 "metadata": {
  "colab": {
   "provenance": []
  },
  "kernelspec": {
   "display_name": "Python 3",
   "name": "python3"
  },
  "language_info": {
   "codemirror_mode": {
    "name": "ipython",
    "version": 3
   },
   "file_extension": ".py",
   "mimetype": "text/x-python",
   "name": "python",
   "nbconvert_exporter": "python",
   "pygments_lexer": "ipython3",
   "version": "3.9.6"
  }
 },
 "nbformat": 4,
 "nbformat_minor": 0
}
