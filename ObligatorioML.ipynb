{
 "cells": [
  {
   "cell_type": "markdown",
   "metadata": {
    "id": "qS78xdfwTdMl"
   },
   "source": [
    "# Cargar y explorar los datos:"
   ]
  },
  {
   "cell_type": "code",
   "execution_count": 30,
   "metadata": {
    "colab": {
     "base_uri": "https://localhost:8080/"
    },
    "collapsed": true,
    "id": "roBADtGxj4Qk",
    "outputId": "74d8007e-842a-4792-e19c-e28806b4f527"
   },
   "outputs": [],
   "source": [
    "import pandas as pd\n",
    "import numpy as np\n",
    "import matplotlib.pyplot as plt\n",
    "from sklearn.model_selection import train_test_split, cross_val_score\n",
    "\n",
    "# If necessary, install required packages (use pip in the terminal)\n",
    "# pip install matplotlib scikit-learn pandas\n",
    "# pip install pandas-profiling\n",
    "\n",
    "# 2. Cargar el dataset\n",
    "df_train = pd.read_csv('./dataset/train.csv')  # Change this to the correct local path\n",
    "df_test = pd.read_csv('./dataset/test.csv')\n"
   ]
  },
  {
   "cell_type": "code",
   "execution_count": 31,
   "metadata": {
    "colab": {
     "base_uri": "https://localhost:8080/",
     "height": 920
    },
    "collapsed": true,
    "id": "opjak8-1tTvR",
    "outputId": "ad330336-4337-43ea-8f33-0cc457cdfae9"
   },
   "outputs": [
    {
     "name": "stdout",
     "output_type": "stream",
     "text": [
      "<class 'pandas.core.frame.DataFrame'>\n",
      "RangeIndex: 11030 entries, 0 to 11029\n",
      "Data columns (total 15 columns):\n",
      " #   Column             Non-Null Count  Dtype  \n",
      "---  ------             --------------  -----  \n",
      " 0   id                 11030 non-null  int64  \n",
      " 1   Game Title         11030 non-null  object \n",
      " 2   Year               11014 non-null  float64\n",
      " 3   Publisher          9992 non-null   object \n",
      " 4   North America      11030 non-null  float64\n",
      " 5   Europe             11030 non-null  float64\n",
      " 6   Japan              11030 non-null  float64\n",
      " 7   Rest of World      11030 non-null  float64\n",
      " 8   Global             11030 non-null  float64\n",
      " 9   Number of Reviews  11030 non-null  object \n",
      " 10  Summary            1098 non-null   object \n",
      " 11  Wishlist           11030 non-null  object \n",
      " 12  Platform           11030 non-null  object \n",
      " 13  Genre              11030 non-null  object \n",
      " 14  Rating             11030 non-null  float64\n",
      "dtypes: float64(7), int64(1), object(7)\n",
      "memory usage: 1.3+ MB\n"
     ]
    },
    {
     "data": {
      "text/html": [
       "<div>\n",
       "<style scoped>\n",
       "    .dataframe tbody tr th:only-of-type {\n",
       "        vertical-align: middle;\n",
       "    }\n",
       "\n",
       "    .dataframe tbody tr th {\n",
       "        vertical-align: top;\n",
       "    }\n",
       "\n",
       "    .dataframe thead th {\n",
       "        text-align: right;\n",
       "    }\n",
       "</style>\n",
       "<table border=\"1\" class=\"dataframe\">\n",
       "  <thead>\n",
       "    <tr style=\"text-align: right;\">\n",
       "      <th></th>\n",
       "      <th>id</th>\n",
       "      <th>Game Title</th>\n",
       "      <th>Year</th>\n",
       "      <th>Publisher</th>\n",
       "      <th>North America</th>\n",
       "      <th>Europe</th>\n",
       "      <th>Japan</th>\n",
       "      <th>Rest of World</th>\n",
       "      <th>Global</th>\n",
       "      <th>Number of Reviews</th>\n",
       "      <th>Summary</th>\n",
       "      <th>Wishlist</th>\n",
       "      <th>Platform</th>\n",
       "      <th>Genre</th>\n",
       "      <th>Rating</th>\n",
       "    </tr>\n",
       "  </thead>\n",
       "  <tbody>\n",
       "    <tr>\n",
       "      <th>0</th>\n",
       "      <td>1</td>\n",
       "      <td>Bloodstained: Curse of the Moon</td>\n",
       "      <td>2007.0</td>\n",
       "      <td>NaN</td>\n",
       "      <td>0.08</td>\n",
       "      <td>0.02</td>\n",
       "      <td>0.00</td>\n",
       "      <td>0.01</td>\n",
       "      <td>0.17</td>\n",
       "      <td>341.0</td>\n",
       "      <td>“Bloodstained: Curse of the Moon” is packed wi...</td>\n",
       "      <td>397.0</td>\n",
       "      <td>2600</td>\n",
       "      <td>Platform</td>\n",
       "      <td>7.345609</td>\n",
       "    </tr>\n",
       "    <tr>\n",
       "      <th>1</th>\n",
       "      <td>2</td>\n",
       "      <td>Plants vs. Zombies</td>\n",
       "      <td>2007.0</td>\n",
       "      <td>NaN</td>\n",
       "      <td>0.08</td>\n",
       "      <td>0.02</td>\n",
       "      <td>0.00</td>\n",
       "      <td>0.01</td>\n",
       "      <td>0.17</td>\n",
       "      <td>719.0</td>\n",
       "      <td>Zombies are invading your home, and the only d...</td>\n",
       "      <td>82.0</td>\n",
       "      <td>2600</td>\n",
       "      <td>Puzzle</td>\n",
       "      <td>6.511195</td>\n",
       "    </tr>\n",
       "    <tr>\n",
       "      <th>2</th>\n",
       "      <td>3</td>\n",
       "      <td>Zero Escape: Zero Time Dilemma</td>\n",
       "      <td>2007.0</td>\n",
       "      <td>NaN</td>\n",
       "      <td>0.08</td>\n",
       "      <td>0.02</td>\n",
       "      <td>0.00</td>\n",
       "      <td>0.01</td>\n",
       "      <td>0.17</td>\n",
       "      <td>350.0</td>\n",
       "      <td>Zero Time Dilemma is the third and final entry...</td>\n",
       "      <td>402.0</td>\n",
       "      <td>2600</td>\n",
       "      <td>Puzzle</td>\n",
       "      <td>6.651093</td>\n",
       "    </tr>\n",
       "    <tr>\n",
       "      <th>3</th>\n",
       "      <td>4</td>\n",
       "      <td>Zelda II: The Adventure of Link</td>\n",
       "      <td>1987.0</td>\n",
       "      <td>Nintendo</td>\n",
       "      <td>2.19</td>\n",
       "      <td>0.50</td>\n",
       "      <td>1.61</td>\n",
       "      <td>0.08</td>\n",
       "      <td>4.38</td>\n",
       "      <td>756.0</td>\n",
       "      <td>Zelda II: The Adventure of Link is the second ...</td>\n",
       "      <td>290.0</td>\n",
       "      <td>NES</td>\n",
       "      <td>Adventure</td>\n",
       "      <td>7.900000</td>\n",
       "    </tr>\n",
       "    <tr>\n",
       "      <th>4</th>\n",
       "      <td>5</td>\n",
       "      <td>Yume Nikki</td>\n",
       "      <td>2007.0</td>\n",
       "      <td>NaN</td>\n",
       "      <td>0.08</td>\n",
       "      <td>0.02</td>\n",
       "      <td>0.00</td>\n",
       "      <td>0.01</td>\n",
       "      <td>0.17</td>\n",
       "      <td>770.0</td>\n",
       "      <td>Yume Nikki is a 32-Bit freeware game created b...</td>\n",
       "      <td>771.0</td>\n",
       "      <td>2600</td>\n",
       "      <td>Adventure</td>\n",
       "      <td>7.152074</td>\n",
       "    </tr>\n",
       "  </tbody>\n",
       "</table>\n",
       "</div>"
      ],
      "text/plain": [
       "   id                       Game Title    Year Publisher  North America  \\\n",
       "0   1  Bloodstained: Curse of the Moon  2007.0       NaN           0.08   \n",
       "1   2               Plants vs. Zombies  2007.0       NaN           0.08   \n",
       "2   3   Zero Escape: Zero Time Dilemma  2007.0       NaN           0.08   \n",
       "3   4  Zelda II: The Adventure of Link  1987.0  Nintendo           2.19   \n",
       "4   5                       Yume Nikki  2007.0       NaN           0.08   \n",
       "\n",
       "   Europe  Japan  Rest of World  Global Number of Reviews  \\\n",
       "0    0.02   0.00           0.01    0.17             341.0   \n",
       "1    0.02   0.00           0.01    0.17             719.0   \n",
       "2    0.02   0.00           0.01    0.17             350.0   \n",
       "3    0.50   1.61           0.08    4.38             756.0   \n",
       "4    0.02   0.00           0.01    0.17             770.0   \n",
       "\n",
       "                                             Summary Wishlist Platform  \\\n",
       "0  “Bloodstained: Curse of the Moon” is packed wi...    397.0     2600   \n",
       "1  Zombies are invading your home, and the only d...     82.0     2600   \n",
       "2  Zero Time Dilemma is the third and final entry...    402.0     2600   \n",
       "3  Zelda II: The Adventure of Link is the second ...    290.0      NES   \n",
       "4  Yume Nikki is a 32-Bit freeware game created b...    771.0     2600   \n",
       "\n",
       "       Genre    Rating  \n",
       "0   Platform  7.345609  \n",
       "1     Puzzle  6.511195  \n",
       "2     Puzzle  6.651093  \n",
       "3  Adventure  7.900000  \n",
       "4  Adventure  7.152074  "
      ]
     },
     "execution_count": 31,
     "metadata": {},
     "output_type": "execute_result"
    }
   ],
   "source": [
    "# Resumen de la información del dataframe\n",
    "df_train.info()\n",
    "df_train.head()\n",
    "\n"
   ]
  },
  {
   "cell_type": "code",
   "execution_count": 32,
   "metadata": {
    "colab": {
     "base_uri": "https://localhost:8080/"
    },
    "collapsed": true,
    "id": "jIv0ENS7tv0g",
    "outputId": "4002009d-c2db-4919-966c-c5c30df58e1a"
   },
   "outputs": [
    {
     "name": "stdout",
     "output_type": "stream",
     "text": [
      "id                      0\n",
      "Game Title              0\n",
      "Year                   16\n",
      "Publisher            1038\n",
      "North America           0\n",
      "Europe                  0\n",
      "Japan                   0\n",
      "Rest of World           0\n",
      "Global                  0\n",
      "Number of Reviews       0\n",
      "Summary              9932\n",
      "Wishlist                0\n",
      "Platform                0\n",
      "Genre                   0\n",
      "Rating                  0\n",
      "dtype: int64\n"
     ]
    }
   ],
   "source": [
    "missing_values = df_train.isnull().sum()\n",
    "print(missing_values)\n"
   ]
  },
  {
   "cell_type": "markdown",
   "metadata": {
    "id": "rzf3IFM8T6xk"
   },
   "source": [
    "# Rellenar valores faltantes:\n",
    "En Publisher, puedes rellenar con una categoría como \"Unknown\" si no es crucial.\n",
    "Para Summary, podrías eliminarla si no es relevante para la clasificación o utilizar técnicas de procesamiento de texto si planeas incluirla."
   ]
  },
  {
   "cell_type": "code",
   "execution_count": 33,
   "metadata": {
    "colab": {
     "base_uri": "https://localhost:8080/"
    },
    "collapsed": true,
    "id": "ppNwVeKLUGT-",
    "outputId": "85680cca-0431-4828-e809-0b689fa50e04"
   },
   "outputs": [],
   "source": [
    "# Rellenar valores faltantes\n",
    "def clean_data(df):\n",
    "    # Fill missing 'Year' values with the median of the column\n",
    "    df['Year'] = df['Year'].fillna(df['Year'].median())\n",
    "    \n",
    "    # Fill missing 'Publisher' values with 'Unknown'\n",
    "    df['Publisher'] = df['Publisher'].fillna('Unknown')\n",
    "    \n",
    "    # Drop the 'Summary' column if it exists\n",
    "    if 'Summary' in df.columns:\n",
    "        df = df.drop(columns=['Summary'])\n",
    "    \n",
    "    # Check and return remaining missing values\n",
    "    missing_values = df.isnull().sum()\n",
    "    \n",
    "    # Print missing values\n",
    "    print(\"Missing values after cleaning:\")\n",
    "    print(missing_values)\n",
    "\n",
    "\n",
    "\n",
    "    \n",
    "    return df\n"
   ]
  },
  {
   "cell_type": "markdown",
   "metadata": {
    "id": "ne8d-BkaV9Ux"
   },
   "source": [
    "# Convertir variables categóricas:"
   ]
  },
  {
   "cell_type": "code",
   "execution_count": null,
   "metadata": {
    "id": "qRGBr2X2Xud2"
   },
   "outputs": [],
   "source": [
    "\n"
   ]
  },
  {
   "cell_type": "code",
   "execution_count": 34,
   "metadata": {
    "colab": {
     "base_uri": "https://localhost:8080/"
    },
    "id": "HwWlyi4HdQT1",
    "outputId": "20e3d15c-8b12-49a8-ce7b-30750a2de84c"
   },
   "outputs": [],
   "source": [
    "import pandas as pd\n",
    "from sklearn.preprocessing import LabelEncoder\n",
    "\n",
    "def preprocess_data(df, is_train=True):    \n",
    "    # Helper function to convert string with 'K' to numeric\n",
    "    def convert_to_numeric(value):\n",
    "        value_str = str(value)\n",
    "        if 'K' in value_str:\n",
    "            return int(float(value_str.replace('K', '')) * 1000)\n",
    "        else:\n",
    "            return int(float(value_str))\n",
    "    \n",
    "    # Apply conversion to numeric columns\n",
    "    columns_to_convert = [\n",
    "        'Europe', 'Japan', 'Rest of World', 'North America', \n",
    "        'Global', 'Number of Reviews', 'Wishlist'\n",
    "    ]\n",
    "    for column in columns_to_convert:\n",
    "        if column in df.columns:\n",
    "            df[column] = df[column].apply(convert_to_numeric)\n",
    "    \n",
    "    # Label encoding for specified categorical columns\n",
    "    label_encoder = LabelEncoder()\n",
    "    categorical_columns = ['Game Title', 'Publisher', 'Platform', 'Genre']\n",
    "    for column in categorical_columns:\n",
    "        if column in df.columns:\n",
    "            df[column] = label_encoder.fit_transform(df[column])\n",
    "    \n",
    "    # If training data, separate features and target\n",
    "    if is_train:\n",
    "        X = df.drop(columns=['id', 'Rating'], errors='ignore')\n",
    "        y = df['Rating'] if 'Rating' in df.columns else None\n",
    "        return X, y\n",
    "    else:\n",
    "        # Return the entire DataFrame for test data\n",
    "        return df\n",
    "\n",
    "# Example usage:\n",
    "# X_train, y_train = preprocess_data(df_train, is_train=True)\n",
    "# X_test = preprocess_data(df_test, is_train=False)\n"
   ]
  },
  {
   "cell_type": "code",
   "execution_count": null,
   "metadata": {
    "id": "0tzDPjRvdexA"
   },
   "outputs": [],
   "source": []
  },
  {
   "cell_type": "markdown",
   "metadata": {
    "id": "rMsnUfbndir_"
   },
   "source": [
    "# Separar características y objetivo"
   ]
  },
  {
   "cell_type": "code",
   "execution_count": 35,
   "metadata": {
    "colab": {
     "base_uri": "https://localhost:8080/"
    },
    "id": "9s7SqSEQdn-n",
    "outputId": "baa7a064-254e-47ef-906b-93c863774275"
   },
   "outputs": [],
   "source": [
    "from sklearn.model_selection import train_test_split, cross_val_score\n",
    "from sklearn.tree import DecisionTreeRegressor\n",
    "import numpy as np\n",
    "\n",
    "def find_best_depth(X, Y, test_size=0.33, max_depth=20, cv=5, random_state=42):\n",
    "    \"\"\"\n",
    "    Finds the best max_depth for a DecisionTreeRegressor using cross-validation.\n",
    "    \n",
    "    Parameters:\n",
    "    - X (pd.DataFrame): Features.\n",
    "    - Y (pd.Series): Target variable.\n",
    "    - test_size (float): Proportion of data to use as the test set.\n",
    "    - max_depth (int): Maximum depth to evaluate.\n",
    "    - cv (int): Number of cross-validation folds.\n",
    "    - random_state (int): Random seed for reproducibility.\n",
    "    \n",
    "    Returns:\n",
    "    - best_depth (int): The depth that gives the lowest average MSE.\n",
    "    - best_score (float): The corresponding mean squared error for the best depth.\n",
    "    \"\"\"\n",
    "    \n",
    "    # Split data into training and testing sets\n",
    "    X_train, X_test, Y_train, Y_test = train_test_split(X, Y, test_size=test_size, random_state=random_state)\n",
    "    \n",
    "    # Define range of depths to evaluate\n",
    "    depth_range = range(1, max_depth + 1)\n",
    "    mean_scores = []\n",
    "    \n",
    "    # Perform cross-validation for each depth\n",
    "    for depth in depth_range:\n",
    "        model = DecisionTreeRegressor(max_depth=depth, criterion='squared_error', random_state=random_state)\n",
    "        scores = cross_val_score(model, X_train, Y_train, cv=cv, scoring='neg_mean_squared_error')\n",
    "        mean_scores.append(np.mean(np.abs(scores)))  # Store the mean absolute error\n",
    "    \n",
    "    # Determine the best depth based on mean score\n",
    "    best_depth = depth_range[np.argmin(mean_scores)]\n",
    "    best_score = min(mean_scores)\n",
    "    \n",
    "    print(f\"Best depth: {best_depth}\")\n",
    "    print(f\"Average Mean Squared Error with cross-validation: {best_score:.4f}\")\n",
    "    \n",
    "    return best_depth, best_score\n",
    "\n",
    "# Example usage:\n",
    "# best_depth, best_score = find_best_depth(X, Y)\n",
    "\n",
    "\n",
    "\n"
   ]
  },
  {
   "cell_type": "markdown",
   "metadata": {
    "id": "6GD7PT4cYtAg"
   },
   "source": [
    "# Hacer arbol y evaluarlo:"
   ]
  },
  {
   "cell_type": "code",
   "execution_count": 37,
   "metadata": {
    "colab": {
     "base_uri": "https://localhost:8080/",
     "height": 721
    },
    "collapsed": true,
    "id": "nMdNV58VQWwt",
    "outputId": "cb3eee20-a069-48a8-c877-e9f4e5072c71"
   },
   "outputs": [],
   "source": [
    "from sklearn.tree import DecisionTreeRegressor\n",
    "from sklearn.metrics import mean_squared_error\n",
    "import matplotlib.pyplot as plt\n",
    "from sklearn import tree\n",
    "from sklearn.model_selection import train_test_split\n",
    "\n",
    "\n",
    "def train_and_evaluate_decision_tree(X, Y, best_depth, test_size=0.33, random_state=42):\n",
    "    X_train, X_test, Y_train, Y_test = train_test_split(X, Y, test_size=test_size, random_state=random_state)\n",
    "    model = DecisionTreeRegressor(max_depth=best_depth, criterion='squared_error', random_state=random_state)\n",
    "    model.fit(X_train, Y_train)\n",
    "    Y_pred = model.predict(X_test)\n",
    "    mse = mean_squared_error(Y_test, Y_pred)\n",
    "    print(f\"Mean Squared Error (MSE) on test set: {mse:.4f}\")\n",
    "    \n",
    "    # Plot the decision tree\n",
    "    plt.figure(figsize=(15, 10))\n",
    "    tree.plot_tree(model, filled=True, feature_names=X.columns, fontsize=10)\n",
    "    plt.title(f\"Decision Tree (Depth = {best_depth})\")\n",
    "    plt.show()\n",
    "    \n",
    "    return model, mse\n",
    "\n",
    "\n"
   ]
  },
  {
   "cell_type": "markdown",
   "metadata": {},
   "source": [
    "\n",
    "Correr todas las funciones"
   ]
  },
  {
   "cell_type": "code",
   "execution_count": 38,
   "metadata": {},
   "outputs": [],
   "source": [
    "def run_decision_tree_workflow(df_train, df_test):\n",
    "    # Preprocesar datos\n",
    "    X_train, Y_train = preprocess_data(df_train, is_train=True)\n",
    "    X_test = preprocess_data(df_test, is_train=False)\n",
    "    \n",
    "    # Encontrar la mejor profundidad del árbol\n",
    "    best_depth, best_score = find_best_depth(X_train, Y_train)\n",
    "    \n",
    "    # Entrenar y evaluar el modelo con la mejor profundidad\n",
    "    best_model, mse = train_and_evaluate_decision_tree(X_train, Y_train, best_depth)\n",
    "    \n",
    "    # Retornar los resultados\n",
    "    return {\n",
    "        \"best_depth\": best_depth,\n",
    "        \"best_score\": best_score,\n",
    "        \"model\": best_model,\n",
    "        \"mse\": mse\n",
    "    }"
   ]
  },
  {
   "cell_type": "markdown",
   "metadata": {},
   "source": [
    "Evaluar test"
   ]
  },
  {
   "cell_type": "code",
   "execution_count": 46,
   "metadata": {},
   "outputs": [],
   "source": [
    "def run_model_on_test(best_model, df_test):\n",
    "    # Asegurarse de que los datos de prueba están preprocesados de la misma forma\n",
    "    X_test = preprocess_data(df_test, is_train=False)\n",
    "    \n",
    "    # Realizar predicciones con el modelo entrenado\n",
    "    predictions = best_model.predict(X_test)\n",
    "    \n",
    "    return predictions\n",
    "\n",
    "df_results = run_model_on_test(best_model, df_test)\n",
    "\n",
    "submission = pd.DataFrame({\n",
    "    'id': df_test['id'],  # Usar df_test para obtener los identificadores\n",
    "    'Prediction': df_results\n",
    "})\n",
    "\n",
    "# Guardar el DataFrame como un archivo CSV\n",
    "submission.to_csv('submission#2.csv', index=False)"
   ]
  },
  {
   "cell_type": "code",
   "execution_count": null,
   "metadata": {
    "id": "TzfARi68v9c8"
   },
   "outputs": [],
   "source": [
    "# Crear un DataFrame para las predicciones\n",
    "\n",
    "#evaluar nuestro modelo con test\n",
    "\n",
    "\n",
    "\n"
   ]
  },
  {
   "cell_type": "code",
   "execution_count": 42,
   "metadata": {
    "id": "PTT8i9DnyyY0"
   },
   "outputs": [
    {
     "data": {
      "text/plain": [
       "['tree.joblib']"
      ]
     },
     "execution_count": 42,
     "metadata": {},
     "output_type": "execute_result"
    }
   ],
   "source": [
    "from joblib import dump, load\n",
    "dump(best_model, 'tree.joblib')\n"
   ]
  },
  {
   "cell_type": "markdown",
   "metadata": {},
   "source": [
    "Importamos librerias"
   ]
  },
  {
   "cell_type": "code",
   "execution_count": 18,
   "metadata": {},
   "outputs": [
    {
     "data": {
      "text/plain": [
       "['tree.joblib']"
      ]
     },
     "execution_count": 18,
     "metadata": {},
     "output_type": "execute_result"
    }
   ],
   "source": [
    "from joblib import dump, load\n",
    "dump(best_model, 'tree.joblib')\n",
    "\n",
    "#model.load('tree.joblib')\n",
    "#model.predict(X_test)\n",
    " #  Guardar el modelo en un archivo"
   ]
  }
 ],
 "metadata": {
  "colab": {
   "provenance": []
  },
  "kernelspec": {
   "display_name": "Python 3",
   "name": "python3"
  },
  "language_info": {
   "codemirror_mode": {
    "name": "ipython",
    "version": 3
   },
   "file_extension": ".py",
   "mimetype": "text/x-python",
   "name": "python",
   "nbconvert_exporter": "python",
   "pygments_lexer": "ipython3",
   "version": "3.11.9"
  }
 },
 "nbformat": 4,
 "nbformat_minor": 0
}
