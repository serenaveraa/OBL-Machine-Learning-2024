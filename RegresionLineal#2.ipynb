{
 "cells": [
  {
   "cell_type": "code",
   "execution_count": 2,
   "metadata": {},
   "outputs": [
    {
     "name": "stderr",
     "output_type": "stream",
     "text": [
      "wandb: Using wandb-core as the SDK backend.  Please refer to https://wandb.me/wandb-core for more information.\n",
      "wandb: Currently logged in as: sv267108 (sv267108-universidad-ort-uruguay). Use `wandb login --relogin` to force relogin\n"
     ]
    },
    {
     "data": {
      "text/html": [
       "Tracking run with wandb version 0.18.7"
      ],
      "text/plain": [
       "<IPython.core.display.HTML object>"
      ]
     },
     "metadata": {},
     "output_type": "display_data"
    },
    {
     "data": {
      "text/html": [
       "Run data is saved locally in <code>c:\\Users\\Karina\\OneDrive\\Documents\\GitHub\\OBL-Machine-Learning-2024\\wandb\\run-20241126_134724-svu257p4</code>"
      ],
      "text/plain": [
       "<IPython.core.display.HTML object>"
      ]
     },
     "metadata": {},
     "output_type": "display_data"
    },
    {
     "data": {
      "text/html": [
       "Syncing run <strong><a href='https://wandb.ai/sv267108-universidad-ort-uruguay/OBL-MACHINE-LEARNING-2024/runs/svu257p4' target=\"_blank\">LinearRegression</a></strong> to <a href='https://wandb.ai/sv267108-universidad-ort-uruguay/OBL-MACHINE-LEARNING-2024' target=\"_blank\">Weights & Biases</a> (<a href='https://wandb.me/developer-guide' target=\"_blank\">docs</a>)<br/>"
      ],
      "text/plain": [
       "<IPython.core.display.HTML object>"
      ]
     },
     "metadata": {},
     "output_type": "display_data"
    },
    {
     "data": {
      "text/html": [
       " View project at <a href='https://wandb.ai/sv267108-universidad-ort-uruguay/OBL-MACHINE-LEARNING-2024' target=\"_blank\">https://wandb.ai/sv267108-universidad-ort-uruguay/OBL-MACHINE-LEARNING-2024</a>"
      ],
      "text/plain": [
       "<IPython.core.display.HTML object>"
      ]
     },
     "metadata": {},
     "output_type": "display_data"
    },
    {
     "data": {
      "text/html": [
       " View run at <a href='https://wandb.ai/sv267108-universidad-ort-uruguay/OBL-MACHINE-LEARNING-2024/runs/svu257p4' target=\"_blank\">https://wandb.ai/sv267108-universidad-ort-uruguay/OBL-MACHINE-LEARNING-2024/runs/svu257p4</a>"
      ],
      "text/plain": [
       "<IPython.core.display.HTML object>"
      ]
     },
     "metadata": {},
     "output_type": "display_data"
    },
    {
     "name": "stdout",
     "output_type": "stream",
     "text": [
      "Evaluación del modelo:\n",
      "MSE (Error Cuadrático Medio): 0.1558\n",
      "RMSE (Raíz del Error Cuadrático Medio): 0.3947\n",
      "MAE (Error Absoluto Medio): 0.2676\n",
      "R² (Coeficiente de Determinación): 0.3250\n",
      "Validación cruzada:\n",
      "Media del MSE: 0.1657\n",
      "Desviación estándar del MSE: 0.0165\n"
     ]
    }
   ],
   "source": [
    "import pandas as pd\n",
    "import numpy as np\n",
    "import matplotlib.pyplot as plt\n",
    "from sklearn.model_selection import train_test_split, cross_val_score\n",
    "from sklearn.linear_model import LinearRegression\n",
    "from sklearn.metrics import mean_absolute_error, mean_squared_error, r2_score\n",
    "\n",
    "# Cargar los datos\n",
    "df_train = pd.read_csv('./dataset/train.csv')  # Cambiar al path correcto\n",
    "df_test = pd.read_csv('./dataset/test.csv')    # Cambiar al path correcto\n",
    "\n",
    "# Limpieza de datos\n",
    "def clean_data(df):\n",
    "    df['Year'] = df['Year'].fillna(df['Year'].median())\n",
    "    df['Publisher'] = df['Publisher'].fillna('Unknown')\n",
    "    if 'Summary' in df.columns:\n",
    "        df = df.drop(columns=['Summary'])\n",
    "    return df\n",
    "\n",
    "# Preprocesamiento\n",
    "from sklearn.preprocessing import LabelEncoder\n",
    "\n",
    "def preprocess_data(df):\n",
    "    df = clean_data(df)\n",
    "    \n",
    "    def convert_to_numeric(value):\n",
    "        value_str = str(value)\n",
    "        if 'K' in value_str:\n",
    "            return int(float(value_str.replace('K', '')) * 1000)\n",
    "        else:\n",
    "            return int(float(value_str))\n",
    "    \n",
    "    columns_to_convert = [\n",
    "        'Europe', 'Japan', 'Rest of World', 'North America', \n",
    "        'Global', 'Number of Reviews', 'Wishlist'\n",
    "    ]\n",
    "    for column in columns_to_convert:\n",
    "        if column in df.columns:\n",
    "            df[column] = df[column].apply(convert_to_numeric)\n",
    "    \n",
    "    label_encoder = LabelEncoder()\n",
    "    categorical_columns = ['Game Title', 'Publisher', 'Platform', 'Genre']\n",
    "    for column in categorical_columns:\n",
    "        if column in df.columns:\n",
    "            df[column] = label_encoder.fit_transform(df[column])\n",
    "    \n",
    "    return df\n",
    "\n",
    "# División en conjuntos de entrenamiento y prueba\n",
    "def split_data(df):\n",
    "    df = preprocess_data(df)\n",
    "    X = df.drop(columns=['Rating'])\n",
    "    y = df['Rating']\n",
    "    return train_test_split(X, y, test_size=0.33, random_state=42)\n",
    "\n",
    "\n",
    "import wandb\n",
    "wandb.init(\n",
    "    project=\"OBL-MACHINE-LEARNING-2024\",\n",
    "    name=\"LinearRegression\"\n",
    ")\n",
    "\n",
    "# Entrenamiento y evaluación del modelo\n",
    "def train_and_evaluate(X_train, X_test, y_train, y_test):\n",
    "    model = LinearRegression()\n",
    "    model.fit(X_train, y_train)\n",
    "    y_pred = model.predict(X_test)\n",
    "    \n",
    "    # Cálculo de métricas\n",
    "    mse = mean_squared_error(y_test, y_pred)\n",
    "    rmse = np.sqrt(mse)\n",
    "    mae = mean_absolute_error(y_test, y_pred)\n",
    "    r2 = r2_score(y_test, y_pred)\n",
    "    \n",
    "    print(\"Evaluación del modelo:\")\n",
    "    print(f\"MSE (Error Cuadrático Medio): {mse:.4f}\")\n",
    "    print(f\"RMSE (Raíz del Error Cuadrático Medio): {rmse:.4f}\")\n",
    "    print(f\"MAE (Error Absoluto Medio): {mae:.4f}\")\n",
    "    print(f\"R² (Coeficiente de Determinación): {r2:.4f}\")\n",
    "\n",
    "    wandb.log({\n",
    "        \"mse\": mse,\n",
    "        \"rmse\": rmse,\n",
    "        \"mae\": mae,\n",
    "        \"r2\": r2\n",
    "    })\n",
    "\n",
    "    \n",
    "    return model, y_pred\n",
    "\n",
    "# Validación cruzada\n",
    "def cross_validation(X, y):\n",
    "    model = LinearRegression()\n",
    "    scores = cross_val_score(model, X, y, cv=5, scoring='neg_mean_squared_error')\n",
    "    mse_scores = -scores\n",
    "    mean_mse = mse_scores.mean()\n",
    "    std_mse = mse_scores.std()\n",
    "    \n",
    "    print(\"Validación cruzada:\")\n",
    "    print(f\"Media del MSE: {mean_mse:.4f}\")\n",
    "    print(f\"Desviación estándar del MSE: {std_mse:.4f}\")\n",
    "\n",
    "    return mean_mse, std_mse\n",
    "\n",
    "# Predicción en el conjunto de prueba\n",
    "def predict_on_test(model, df_test):\n",
    "    X_test = preprocess_data(df_test)\n",
    "    predictions = model.predict(X_test)\n",
    "    return predictions\n",
    "\n",
    "# Ejecución del flujo completo\n",
    "df_train = preprocess_data(df_train)\n",
    "X_train, X_test, y_train, y_test = split_data(df_train)\n",
    "model, y_pred = train_and_evaluate(X_train, X_test, y_train, y_test)\n",
    "cross_validation(pd.concat([X_train, X_test]), pd.concat([y_train, y_test]))\n",
    "\n",
    "df_test = preprocess_data(df_test)\n",
    "predictions = predict_on_test(model, df_test)\n",
    "\n",
    "# Guardar resultados\n",
    "submission = pd.DataFrame({\n",
    "    'id': df_test['id'],  # Cambiar según la estructura del archivo\n",
    "    'Prediction': predictions\n",
    "})\n",
    "submission.to_csv('LinearRegressionResults.csv', index=False)\n"
   ]
  }
 ],
 "metadata": {
  "kernelspec": {
   "display_name": "Python 3",
   "language": "python",
   "name": "python3"
  },
  "language_info": {
   "codemirror_mode": {
    "name": "ipython",
    "version": 3
   },
   "file_extension": ".py",
   "mimetype": "text/x-python",
   "name": "python",
   "nbconvert_exporter": "python",
   "pygments_lexer": "ipython3",
   "version": "3.11.9"
  }
 },
 "nbformat": 4,
 "nbformat_minor": 2
}
